{
 "cells": [
  {
   "cell_type": "markdown",
   "metadata": {},
   "source": [
    "# Choose ETFs and Run Notebook"
   ]
  },
  {
   "cell_type": "code",
   "execution_count": null,
   "metadata": {},
   "outputs": [],
   "source": [
    "etfs = ['KIE', 'XLF', 'FNCL', 'KCE', 'RYF']"
   ]
  },
  {
   "cell_type": "markdown",
   "metadata": {},
   "source": [
    "# Package + Data Import"
   ]
  },
  {
   "cell_type": "markdown",
   "metadata": {},
   "source": [
    "##### If you get an error running the notebook, uncomment and run this cell first"
   ]
  },
  {
   "cell_type": "code",
   "execution_count": null,
   "metadata": {
    "tags": [
     "hide-cell",
     "remove_cell"
    ]
   },
   "outputs": [],
   "source": [
    "# !pip install pandas\n",
    "# !pip install yfinance\n",
    "# !pip install thepassiveinvestor\n",
    "# !pip install plotly\n",
    "# !pip install ipywidgets\n",
    "# !jupyter nbextension enable --py widgetsnbextension"
   ]
  },
  {
   "cell_type": "code",
   "execution_count": null,
   "metadata": {
    "tags": [
     "hide-input",
     "hide-cell"
    ]
   },
   "outputs": [],
   "source": [
    "import yfinance as yf\n",
    "import thepassiveinvestor as pi\n",
    "import pandas as pd\n",
    "import plotly.express as px\n",
    "import ipywidgets as widgets\n",
    "from ipywidgets import interact, interact_manual\n",
    "from datetime import date"
   ]
  },
  {
   "cell_type": "code",
   "execution_count": null,
   "metadata": {
    "tags": [
     "hide-input",
     "hide-cell"
    ]
   },
   "outputs": [],
   "source": [
    "sector_holdings_cols = ['realestate', 'consumer_cyclical', 'basic_materials',\n",
    "       'consumer_defensive', 'technology', 'communication_services',\n",
    "       'financial_services', 'utilities', 'industrials', 'energy',\n",
    "       'healthcare']\n",
    "company_holdings_cols = ['Apple Inc', 'Microsoft Corp', 'Amazon.com Inc', 'Facebook Inc Class A',\n",
    "       'Alphabet Inc Class A', 'Alphabet Inc Class C', 'Tesla Inc',\n",
    "       'NVIDIA Corp', 'Visa Inc Class A', 'PayPal Holdings Inc']\n",
    "annual_returns_cols = ['2016', '2017', '2018', '2019', '2020', '2021']\n",
    "key_characteristics_cols = ['fundInceptionDate', 'category', 'totalAssets', 'currency', 'navPrice',\n",
    "       'previousClose']\n",
    "\n",
    "sector_holdings = pd.DataFrame({}, columns = sector_holdings_cols)\n",
    "company_holdings = pd.DataFrame({}, columns = company_holdings_cols)\n",
    "annual_returns = pd.DataFrame({}, columns = annual_returns_cols)\n",
    "# key_characteristics = pd.DataFrame({}, columns = key_characteristics_cols)\n",
    "\n",
    "for etf in etfs:\n",
    "    etf_data = pi.collect_data(etf)\n",
    "    sector_holdings = sector_holdings.append(pd.DataFrame(etf_data['sector_holdings'], index = [etf])).fillna(\"0.00%\")\n",
    "    company_holdings = company_holdings.append(pd.DataFrame(etf_data['company_holdings'], index = [etf])).fillna(\"0.00%\")\n",
    "    annual_returns = annual_returns.append(pd.DataFrame(etf_data['annual_returns'], index = [etf])).fillna(\"0.00%\")\n",
    "#     key_characteristics = key_characteristics.append(pd.DataFrame(etf_data['key_characteristics'], index = [etf])).fillna(\"0.00%\").astype(str)\n",
    "    \n"
   ]
  },
  {
   "cell_type": "code",
   "execution_count": null,
   "metadata": {
    "tags": [
     "hide-input",
     "hide-cell"
    ]
   },
   "outputs": [],
   "source": [
    "for df in [sector_holdings, company_holdings, annual_returns]:\n",
    "    for col in df.columns:\n",
    "        df[col] = df[col].astype(str).str.replace(\"%\", \"\").replace(\"N/A\", \"0.00\").astype('double')"
   ]
  },
  {
   "cell_type": "markdown",
   "metadata": {},
   "source": [
    "# Data Analysis"
   ]
  },
  {
   "cell_type": "markdown",
   "metadata": {},
   "source": [
    "## 2Y Price Plot"
   ]
  },
  {
   "cell_type": "code",
   "execution_count": null,
   "metadata": {
    "scrolled": false,
    "tags": [
     "hide-input",
     "hide-cell"
    ]
   },
   "outputs": [],
   "source": [
    "data = yf.download(etfs, period = \"2y\", interval = \"1d\")['Adj Close']\n",
    "df = pd.melt(data.reset_index(), id_vars='Date', value_vars=data.columns[:])\n",
    "px.line(df, x = 'Date', y = 'value', color = 'variable', title = '2Y ETF Price Chart')"
   ]
  },
  {
   "cell_type": "markdown",
   "metadata": {},
   "source": [
    "## 1 Month Price Plot"
   ]
  },
  {
   "cell_type": "code",
   "execution_count": null,
   "metadata": {
    "scrolled": false,
    "tags": [
     "hide-input",
     "hide-cell"
    ]
   },
   "outputs": [],
   "source": [
    "data = yf.download(etfs, period = \"1mo\", interval = \"1d\")['Adj Close']\n",
    "df = pd.melt(data.reset_index(), id_vars='Date', value_vars=data.columns[:])\n",
    "px.line(df, x = 'Date', y = 'value', color = 'variable', title = '1M ETF Price Chart')"
   ]
  },
  {
   "cell_type": "markdown",
   "metadata": {},
   "source": [
    "## Sector Holdings"
   ]
  },
  {
   "cell_type": "code",
   "execution_count": null,
   "metadata": {
    "scrolled": false,
    "tags": [
     "hide-input",
     "hide-cell"
    ]
   },
   "outputs": [],
   "source": [
    "for ticker in sector_holdings.index:\n",
    "    etf = sector_holdings.loc[ticker]\n",
    "    etf = etf[etf != 0]\n",
    "    fig = px.pie(etf, values = etf.values, names = etf.index, title = ticker + \" Sector Holdings Data\")\n",
    "    fig.show()"
   ]
  },
  {
   "cell_type": "markdown",
   "metadata": {},
   "source": [
    "## Company Holdings"
   ]
  },
  {
   "cell_type": "code",
   "execution_count": null,
   "metadata": {
    "scrolled": false,
    "tags": [
     "hide-input",
     "hide-cell"
    ]
   },
   "outputs": [],
   "source": [
    "for ticker in company_holdings.index:\n",
    "    etf = company_holdings.loc[ticker]\n",
    "    etf = etf[etf != 0]\n",
    "    fig = px.pie(etf, values = etf.values, names = etf.index, title = ticker + \" Company Holdings Data\")\n",
    "    fig.show()"
   ]
  },
  {
   "cell_type": "code",
   "execution_count": null,
   "metadata": {},
   "outputs": [],
   "source": []
  }
 ],
 "metadata": {
  "kernelspec": {
   "display_name": "Python 3",
   "language": "python",
   "name": "python3"
  },
  "language_info": {
   "codemirror_mode": {
    "name": "ipython",
    "version": 3
   },
   "file_extension": ".py",
   "mimetype": "text/x-python",
   "name": "python",
   "nbconvert_exporter": "python",
   "pygments_lexer": "ipython3",
   "version": "3.7.4"
  }
 },
 "nbformat": 4,
 "nbformat_minor": 2
}
